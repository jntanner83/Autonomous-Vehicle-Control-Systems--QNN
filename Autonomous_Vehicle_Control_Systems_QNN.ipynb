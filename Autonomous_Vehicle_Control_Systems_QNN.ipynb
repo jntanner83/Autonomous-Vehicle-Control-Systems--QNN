{
  "nbformat": 4,
  "nbformat_minor": 0,
  "metadata": {
    "colab": {
      "provenance": [],
      "include_colab_link": true
    },
    "kernelspec": {
      "name": "python3",
      "display_name": "Python 3"
    },
    "language_info": {
      "name": "python"
    },
    "accelerator": "TPU"
  },
  "cells": [
    {
      "cell_type": "markdown",
      "metadata": {
        "id": "view-in-github",
        "colab_type": "text"
      },
      "source": [
        "<a href=\"https://colab.research.google.com/github/jntanner83/Autonomous-Vehicle-Control-Systems--QNN/blob/Carl/Autonomous_Vehicle_Control_Systems_QNN.ipynb\" target=\"_parent\"><img src=\"https://colab.research.google.com/assets/colab-badge.svg\" alt=\"Open In Colab\"/></a>"
      ]
    },
    {
      "cell_type": "code",
      "execution_count": 2,
      "metadata": {
        "id": "MGxYkD57o96r",
        "colab": {
          "base_uri": "https://localhost:8080/",
          "height": 35
        },
        "outputId": "43fbe168-b6b4-413f-900d-c89943227cb9"
      },
      "outputs": [
        {
          "output_type": "execute_result",
          "data": {
            "text/plain": [
              "'test test test'"
            ],
            "application/vnd.google.colaboratory.intrinsic+json": {
              "type": "string"
            }
          },
          "metadata": {},
          "execution_count": 2
        }
      ],
      "source": [
        "\"test test test\""
      ]
    },
    {
      "cell_type": "code",
      "source": [
        "\"TEST TEST TEST 222\""
      ],
      "metadata": {
        "id": "YQDofs-oBUQP",
        "outputId": "9d96e5fe-afcb-4239-8e4c-34df8d43e1fa",
        "colab": {
          "base_uri": "https://localhost:8080/",
          "height": 35
        }
      },
      "execution_count": 3,
      "outputs": [
        {
          "output_type": "execute_result",
          "data": {
            "text/plain": [
              "'TEST TEST TEST 222'"
            ],
            "application/vnd.google.colaboratory.intrinsic+json": {
              "type": "string"
            }
          },
          "metadata": {},
          "execution_count": 3
        }
      ]
    },
    {
      "cell_type": "markdown",
      "source": [],
      "metadata": {
        "id": "t8eswhGh1wle"
      }
    },
    {
      "cell_type": "markdown",
      "source": [
        "# Carl's Messy Section"
      ],
      "metadata": {
        "id": "O3Hq3U0T1yAX"
      }
    }
  ]
}